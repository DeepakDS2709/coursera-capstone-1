{
 "cells": [
  {
   "cell_type": "markdown",
   "metadata": {},
   "source": [
    "<h1 style=\"color:red\">Battle Of Neighbourhoods</h1>"
   ]
  },
  {
   "cell_type": "markdown",
   "metadata": {},
   "source": [
    "<h3 style='color:Blue'>Description of Problem</h3>\n",
    "Bangalore is called as The Silicon Valley of India because of the large number of information technology companies located in the city which contributed 33% of India's ₹1,442 billion (US$21 billion) IT exports. So being the IT hub in india many people migrate to Bangalore job or for a business trip. So being a traveller or a job immigrant one would definitely want to visit the popular places in Bangalore.So with this project I would be considersing such people as my audience and will try to help them explore Bangalore trending places.\n",
    "\n",
    "<h3 style='color:Blue'>Target Audence</h3>\n",
    "<ul>\n",
    "<li>People travelling to Bangalore and want to explore the  city popular places.</li>\n",
    "<li>People planning to shift to Bangalore due to their job.</li>\n",
    "</ul>"
   ]
  },
  {
   "cell_type": "markdown",
   "metadata": {},
   "source": [
    "<h2 style='color:blue'>Project Description</h2>\n",
    "This project demonstrates an analysis of neighborhoods using heterogeneous data sources and data science methods by the example of Bangalore(India). This requires the extraction, load, transformation and analysis of all data sources contained in the following notebook.\n",
    "\n",
    "<h3 style='color:blue'>Introduction</h3>\n",
    "In recent decades, the city has witnessed rapid growth in population and urbanised area. While Central Bangalore is the commercial heart of the city, Eastern and South-Eastern Bangalore areas are major hubs for IT and financial companies. Southern and Western parts of the city are mainly residential areas. The neighbourhoods in the Northern and North-Eastern regions are both industrial and residential."
   ]
  },
  {
   "cell_type": "markdown",
   "metadata": {},
   "source": [
    "<h2 style='color:blue'>Data</h2>\n",
    "The data is fetched from following resources:\n",
    "<ul>\n",
    "<li>Four Square Rest Api</li>\n",
    "<li>https://en.wikipedia.org/wiki/List_of_neighbourhoods_in_Bangalore/</li>\n",
    "</ul>\n",
    "By consindering multiple and heterogeneous factors, such as venues and socio-demographic factors, this analysis supports the decision of people who move to a new place in Bangalore."
   ]
  }
 ],
 "metadata": {
  "kernelspec": {
   "display_name": "Python 3",
   "language": "python",
   "name": "python3"
  },
  "language_info": {
   "codemirror_mode": {
    "name": "ipython",
    "version": 3
   },
   "file_extension": ".py",
   "mimetype": "text/x-python",
   "name": "python",
   "nbconvert_exporter": "python",
   "pygments_lexer": "ipython3",
   "version": "3.7.0"
  }
 },
 "nbformat": 4,
 "nbformat_minor": 2
}
